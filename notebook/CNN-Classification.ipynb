{
 "cells": [
  {
   "cell_type": "code",
   "execution_count": 2,
   "id": "381fb10b",
   "metadata": {},
   "outputs": [
    {
     "name": "stdout",
     "output_type": "stream",
     "text": [
      "Collecting tqdm\n",
      "  Using cached tqdm-4.63.1-py2.py3-none-any.whl (76 kB)\n",
      "Requirement already satisfied: colorama in c:\\users\\karthik\\anaconda3\\envs\\cnn_basics\\lib\\site-packages (from tqdm) (0.4.4)\n",
      "Installing collected packages: tqdm\n",
      "Successfully installed tqdm-4.63.1\n"
     ]
    }
   ],
   "source": [
    "!pip install tqdm"
   ]
  },
  {
   "cell_type": "code",
   "execution_count": 3,
   "id": "174f6979",
   "metadata": {
    "scrolled": true
   },
   "outputs": [],
   "source": [
    "import tensorflow as tf\n",
    "import os\n",
    "from tqdm import tqdm\n",
    "import urllib.request as req"
   ]
  },
  {
   "cell_type": "code",
   "execution_count": 4,
   "id": "fc1aad71",
   "metadata": {},
   "outputs": [],
   "source": [
    "SOURCE_URL = \"https://download.microsoft.com/download/3/E/1/3E1C3F21-ECDB-4869-8368-6DEBA77B919F/kagglecatsanddogs_3367a.zip\""
   ]
  },
  {
   "cell_type": "code",
   "execution_count": 5,
   "id": "4c7cbf3c",
   "metadata": {},
   "outputs": [],
   "source": [
    "DESTINATION = \"data\"\n",
    "os.makedirs(DESTINATION, exist_ok=True)\n",
    "data_file = \"data.zip\"\n",
    "\n",
    "DESTINATION_ZIP_PATH = os.path.join(DESTINATION, data_file)"
   ]
  },
  {
   "cell_type": "code",
   "execution_count": null,
   "id": "743b951c",
   "metadata": {},
   "outputs": [],
   "source": [
    "filename, headers = req.urlretrieve(SOURCE_URL, DESTINATION_ZIP_PATH)"
   ]
  },
  {
   "cell_type": "code",
   "execution_count": null,
   "id": "61056e45",
   "metadata": {},
   "outputs": [],
   "source": [
    "filename"
   ]
  },
  {
   "cell_type": "code",
   "execution_count": null,
   "id": "85f1a65b",
   "metadata": {},
   "outputs": [],
   "source": [
    "print(headers)"
   ]
  },
  {
   "cell_type": "code",
   "execution_count": null,
   "id": "bddef6e2",
   "metadata": {},
   "outputs": [],
   "source": [
    "from zipfile import ZipFile\n",
    "\n",
    "with ZipFile(filename, \"r\") as zip_f:\n",
    "    zip_f.extractall(\"data/\")"
   ]
  },
  {
   "cell_type": "code",
   "execution_count": null,
   "id": "2cbeb9c0",
   "metadata": {},
   "outputs": [],
   "source": [
    "TARGET_DATA_DIRS = [\"Cat\", \"Dog\"]\n",
    "PARENT_DIR = os.path.join(\"data\",\"PetImages\")"
   ]
  },
  {
   "cell_type": "code",
   "execution_count": null,
   "id": "2e1284f1",
   "metadata": {},
   "outputs": [],
   "source": [
    "!pip install Pillow"
   ]
  },
  {
   "cell_type": "code",
   "execution_count": null,
   "id": "329b7b46",
   "metadata": {},
   "outputs": [],
   "source": [
    "from PIL import Image "
   ]
  },
  {
   "cell_type": "markdown",
   "id": "e32840d2",
   "metadata": {},
   "source": [
    "## Checking Bad Data "
   ]
  },
  {
   "cell_type": "code",
   "execution_count": null,
   "id": "ccfd1fc1",
   "metadata": {},
   "outputs": [],
   "source": [
    "BAD_DATA_DIR = \"bad_data\"\n",
    "os.makedirs(BAD_DATA_DIR, exist_ok=True)"
   ]
  },
  {
   "cell_type": "code",
   "execution_count": null,
   "id": "c5e61da2",
   "metadata": {},
   "outputs": [],
   "source": []
  }
 ],
 "metadata": {
  "kernelspec": {
   "display_name": "Python 3 (ipykernel)",
   "language": "python",
   "name": "python3"
  },
  "language_info": {
   "codemirror_mode": {
    "name": "ipython",
    "version": 3
   },
   "file_extension": ".py",
   "mimetype": "text/x-python",
   "name": "python",
   "nbconvert_exporter": "python",
   "pygments_lexer": "ipython3",
   "version": "3.7.11"
  }
 },
 "nbformat": 4,
 "nbformat_minor": 5
}
